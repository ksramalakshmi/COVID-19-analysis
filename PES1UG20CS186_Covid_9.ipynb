{
 "cells": [
  {
   "cell_type": "markdown",
   "id": "5abcbfb6",
   "metadata": {},
   "source": [
    "# SRN - PES1UG20CS186     ASSIGNMENT ID - Covid_9"
   ]
  },
  {
   "cell_type": "markdown",
   "id": "c676b5f2",
   "metadata": {},
   "source": [
    "Performing Data Analysis on the given CSV File"
   ]
  },
  {
   "cell_type": "code",
   "execution_count": 88,
   "id": "2b8810f3",
   "metadata": {},
   "outputs": [],
   "source": [
    "#importing the necessary libraries\n",
    "import pandas as pd\n",
    "import numpy as np\n",
    "import seaborn as sns\n",
    "import matplotlib.pyplot as plt\n",
    "%matplotlib inline"
   ]
  },
  {
   "cell_type": "code",
   "execution_count": 109,
   "id": "911be646",
   "metadata": {},
   "outputs": [
    {
     "data": {
      "text/html": [
       "<div>\n",
       "<style scoped>\n",
       "    .dataframe tbody tr th:only-of-type {\n",
       "        vertical-align: middle;\n",
       "    }\n",
       "\n",
       "    .dataframe tbody tr th {\n",
       "        vertical-align: top;\n",
       "    }\n",
       "\n",
       "    .dataframe thead th {\n",
       "        text-align: right;\n",
       "    }\n",
       "</style>\n",
       "<table border=\"1\" class=\"dataframe\">\n",
       "  <thead>\n",
       "    <tr style=\"text-align: right;\">\n",
       "      <th></th>\n",
       "      <th>name</th>\n",
       "      <th>region</th>\n",
       "      <th>cases</th>\n",
       "      <th>cases100k</th>\n",
       "      <th>cases7days</th>\n",
       "      <th>cases7days100k</th>\n",
       "      <th>cases24h</th>\n",
       "      <th>deaths</th>\n",
       "      <th>deaths100k</th>\n",
       "      <th>deaths7days</th>\n",
       "      <th>deaths7days100k</th>\n",
       "      <th>deaths24h</th>\n",
       "    </tr>\n",
       "  </thead>\n",
       "  <tbody>\n",
       "    <tr>\n",
       "      <th>0</th>\n",
       "      <td>Finland</td>\n",
       "      <td>Europe</td>\n",
       "      <td>22967888.0</td>\n",
       "      <td>6938.88</td>\n",
       "      <td>370430.0</td>\n",
       "      <td>NaN</td>\n",
       "      <td>59255.0</td>\n",
       "      <td>369019.0</td>\n",
       "      <td>111.49</td>\n",
       "      <td>6460.0</td>\n",
       "      <td>NaN</td>\n",
       "      <td>992.0</td>\n",
       "    </tr>\n",
       "    <tr>\n",
       "      <th>1</th>\n",
       "      <td>Germany</td>\n",
       "      <td>Europe</td>\n",
       "      <td>17787826.0</td>\n",
       "      <td>1288.97</td>\n",
       "      <td>78074.0</td>\n",
       "      <td>5.66</td>\n",
       "      <td>11149.0</td>\n",
       "      <td>236080.0</td>\n",
       "      <td>17.11</td>\n",
       "      <td>938.0</td>\n",
       "      <td>0.07</td>\n",
       "      <td>142.0</td>\n",
       "    </tr>\n",
       "    <tr>\n",
       "      <th>2</th>\n",
       "      <td>Montenegro</td>\n",
       "      <td>Europe</td>\n",
       "      <td>11285084.0</td>\n",
       "      <td>5309.14</td>\n",
       "      <td>61584.0</td>\n",
       "      <td>28.97</td>\n",
       "      <td>9384.0</td>\n",
       "      <td>314348.0</td>\n",
       "      <td>147.89</td>\n",
       "      <td>1698.0</td>\n",
       "      <td>0.80</td>\n",
       "      <td>278.0</td>\n",
       "    </tr>\n",
       "    <tr>\n",
       "      <th>3</th>\n",
       "      <td>Poland</td>\n",
       "      <td>Europe</td>\n",
       "      <td>4220122.0</td>\n",
       "      <td>6216.48</td>\n",
       "      <td>125535.0</td>\n",
       "      <td>184.92</td>\n",
       "      <td>20837.0</td>\n",
       "      <td>72072.0</td>\n",
       "      <td>106.16</td>\n",
       "      <td>396.0</td>\n",
       "      <td>0.58</td>\n",
       "      <td>64.0</td>\n",
       "    </tr>\n",
       "    <tr>\n",
       "      <th>4</th>\n",
       "      <td>Myanmar</td>\n",
       "      <td>South-East Asia</td>\n",
       "      <td>4047551.0</td>\n",
       "      <td>2773.54</td>\n",
       "      <td>NaN</td>\n",
       "      <td>65.34</td>\n",
       "      <td>14290.0</td>\n",
       "      <td>112492.0</td>\n",
       "      <td>77.08</td>\n",
       "      <td>3327.0</td>\n",
       "      <td>2.28</td>\n",
       "      <td>491.0</td>\n",
       "    </tr>\n",
       "  </tbody>\n",
       "</table>\n",
       "</div>"
      ],
      "text/plain": [
       "         name           region       cases  cases100k  cases7days  \\\n",
       "0     Finland           Europe  22967888.0    6938.88    370430.0   \n",
       "1     Germany           Europe  17787826.0    1288.97     78074.0   \n",
       "2  Montenegro           Europe  11285084.0    5309.14     61584.0   \n",
       "3      Poland           Europe   4220122.0    6216.48    125535.0   \n",
       "4     Myanmar  South-East Asia   4047551.0    2773.54         NaN   \n",
       "\n",
       "   cases7days100k  cases24h    deaths  deaths100k  deaths7days  \\\n",
       "0             NaN   59255.0  369019.0      111.49       6460.0   \n",
       "1            5.66   11149.0  236080.0       17.11        938.0   \n",
       "2           28.97    9384.0  314348.0      147.89       1698.0   \n",
       "3          184.92   20837.0   72072.0      106.16        396.0   \n",
       "4           65.34   14290.0  112492.0       77.08       3327.0   \n",
       "\n",
       "   deaths7days100k  deaths24h  \n",
       "0              NaN      992.0  \n",
       "1             0.07      142.0  \n",
       "2             0.80      278.0  \n",
       "3             0.58       64.0  \n",
       "4             2.28      491.0  "
      ]
     },
     "execution_count": 109,
     "metadata": {},
     "output_type": "execute_result"
    }
   ],
   "source": [
    "#reading the csv file from current directory\n",
    "df = pd.read_csv('9.csv')\n",
    "df.head(5)"
   ]
  },
  {
   "cell_type": "code",
   "execution_count": 110,
   "id": "56b38680",
   "metadata": {},
   "outputs": [
    {
     "data": {
      "text/plain": [
       "(236, 12)"
      ]
     },
     "execution_count": 110,
     "metadata": {},
     "output_type": "execute_result"
    }
   ],
   "source": [
    "df.shape"
   ]
  },
  {
   "cell_type": "markdown",
   "id": "ad8738d6",
   "metadata": {},
   "source": [
    "# Introductory Questions"
   ]
  },
  {
   "cell_type": "code",
   "execution_count": 92,
   "id": "30c96856",
   "metadata": {},
   "outputs": [
    {
     "name": "stderr",
     "output_type": "stream",
     "text": [
      "<ipython-input-92-8ff80a7783ff>:3: SettingWithCopyWarning: \n",
      "A value is trying to be set on a copy of a slice from a DataFrame.\n",
      "Try using .loc[row_indexer,col_indexer] = value instead\n",
      "\n",
      "See the caveats in the documentation: https://pandas.pydata.org/pandas-docs/stable/user_guide/indexing.html#returning-a-view-versus-a-copy\n",
      "  df1['fatality rate'] = (df1['deaths']/df1['cases'])*100\n"
     ]
    }
   ],
   "source": [
    "#q1 fatality rate column creation\n",
    "#ignoring null values for introductory questions - df1 dataset\n",
    "df1 = df.dropna() \n",
    "df1['fatality rate'] = (df1['deaths']/df1['cases'])*100"
   ]
  },
  {
   "cell_type": "code",
   "execution_count": 93,
   "id": "726571ff",
   "metadata": {},
   "outputs": [
    {
     "data": {
      "text/html": [
       "<div>\n",
       "<style scoped>\n",
       "    .dataframe tbody tr th:only-of-type {\n",
       "        vertical-align: middle;\n",
       "    }\n",
       "\n",
       "    .dataframe tbody tr th {\n",
       "        vertical-align: top;\n",
       "    }\n",
       "\n",
       "    .dataframe thead th {\n",
       "        text-align: right;\n",
       "    }\n",
       "</style>\n",
       "<table border=\"1\" class=\"dataframe\">\n",
       "  <thead>\n",
       "    <tr style=\"text-align: right;\">\n",
       "      <th></th>\n",
       "      <th>name</th>\n",
       "      <th>region</th>\n",
       "      <th>cases</th>\n",
       "      <th>cases100k</th>\n",
       "      <th>cases7days</th>\n",
       "      <th>cases7days100k</th>\n",
       "      <th>cases24h</th>\n",
       "      <th>deaths</th>\n",
       "      <th>deaths100k</th>\n",
       "      <th>deaths7days</th>\n",
       "      <th>deaths7days100k</th>\n",
       "      <th>deaths24h</th>\n",
       "      <th>fatality rate</th>\n",
       "    </tr>\n",
       "  </thead>\n",
       "  <tbody>\n",
       "    <tr>\n",
       "      <th>1</th>\n",
       "      <td>Germany</td>\n",
       "      <td>Europe</td>\n",
       "      <td>17787826.0</td>\n",
       "      <td>1288.97</td>\n",
       "      <td>78074.0</td>\n",
       "      <td>5.66</td>\n",
       "      <td>11149.0</td>\n",
       "      <td>236080.0</td>\n",
       "      <td>17.11</td>\n",
       "      <td>938.0</td>\n",
       "      <td>0.07</td>\n",
       "      <td>142.0</td>\n",
       "      <td>1.327200</td>\n",
       "    </tr>\n",
       "    <tr>\n",
       "      <th>2</th>\n",
       "      <td>Montenegro</td>\n",
       "      <td>Europe</td>\n",
       "      <td>11285084.0</td>\n",
       "      <td>5309.14</td>\n",
       "      <td>61584.0</td>\n",
       "      <td>28.97</td>\n",
       "      <td>9384.0</td>\n",
       "      <td>314348.0</td>\n",
       "      <td>147.89</td>\n",
       "      <td>1698.0</td>\n",
       "      <td>0.80</td>\n",
       "      <td>278.0</td>\n",
       "      <td>2.785518</td>\n",
       "    </tr>\n",
       "    <tr>\n",
       "      <th>3</th>\n",
       "      <td>Poland</td>\n",
       "      <td>Europe</td>\n",
       "      <td>4220122.0</td>\n",
       "      <td>6216.48</td>\n",
       "      <td>125535.0</td>\n",
       "      <td>184.92</td>\n",
       "      <td>20837.0</td>\n",
       "      <td>72072.0</td>\n",
       "      <td>106.16</td>\n",
       "      <td>396.0</td>\n",
       "      <td>0.58</td>\n",
       "      <td>64.0</td>\n",
       "      <td>1.707818</td>\n",
       "    </tr>\n",
       "    <tr>\n",
       "      <th>5</th>\n",
       "      <td>Guinea</td>\n",
       "      <td>Africa</td>\n",
       "      <td>3858730.0</td>\n",
       "      <td>4575.26</td>\n",
       "      <td>106608.0</td>\n",
       "      <td>126.40</td>\n",
       "      <td>15744.0</td>\n",
       "      <td>34400.0</td>\n",
       "      <td>40.79</td>\n",
       "      <td>806.0</td>\n",
       "      <td>0.95</td>\n",
       "      <td>114.0</td>\n",
       "      <td>0.891485</td>\n",
       "    </tr>\n",
       "    <tr>\n",
       "      <th>6</th>\n",
       "      <td>Saint Pierre and Miquelon</td>\n",
       "      <td>Americas</td>\n",
       "      <td>3580016.0</td>\n",
       "      <td>5504.38</td>\n",
       "      <td>14143.0</td>\n",
       "      <td>21.74</td>\n",
       "      <td>2363.0</td>\n",
       "      <td>60152.0</td>\n",
       "      <td>92.49</td>\n",
       "      <td>116.0</td>\n",
       "      <td>0.18</td>\n",
       "      <td>17.0</td>\n",
       "      <td>1.680216</td>\n",
       "    </tr>\n",
       "  </tbody>\n",
       "</table>\n",
       "</div>"
      ],
      "text/plain": [
       "                        name    region       cases  cases100k  cases7days  \\\n",
       "1                    Germany    Europe  17787826.0    1288.97     78074.0   \n",
       "2                 Montenegro    Europe  11285084.0    5309.14     61584.0   \n",
       "3                     Poland    Europe   4220122.0    6216.48    125535.0   \n",
       "5                     Guinea    Africa   3858730.0    4575.26    106608.0   \n",
       "6  Saint Pierre and Miquelon  Americas   3580016.0    5504.38     14143.0   \n",
       "\n",
       "   cases7days100k  cases24h    deaths  deaths100k  deaths7days  \\\n",
       "1            5.66   11149.0  236080.0       17.11        938.0   \n",
       "2           28.97    9384.0  314348.0      147.89       1698.0   \n",
       "3          184.92   20837.0   72072.0      106.16        396.0   \n",
       "5          126.40   15744.0   34400.0       40.79        806.0   \n",
       "6           21.74    2363.0   60152.0       92.49        116.0   \n",
       "\n",
       "   deaths7days100k  deaths24h  fatality rate  \n",
       "1             0.07      142.0       1.327200  \n",
       "2             0.80      278.0       2.785518  \n",
       "3             0.58       64.0       1.707818  \n",
       "5             0.95      114.0       0.891485  \n",
       "6             0.18       17.0       1.680216  "
      ]
     },
     "execution_count": 93,
     "metadata": {},
     "output_type": "execute_result"
    }
   ],
   "source": [
    "df1.head(5)"
   ]
  },
  {
   "cell_type": "code",
   "execution_count": 188,
   "id": "abaf4c4c",
   "metadata": {},
   "outputs": [
    {
     "data": {
      "image/png": "[encoded data removed]",
      "text/plain": [
       "<Figure size 432x288 with 1 Axes>"
      ]
     },
     "metadata": {
      "needs_background": "light"
     },
     "output_type": "display_data"
    }
   ],
   "source": [
    "#q2 fatality rate of countries with highest number of cases\n",
    "#displaying fatality rate for top 10 countries\n",
    "h_countries = df1.sort_values(by=['cases'], ascending = False).head(10)['name']\n",
    "frate = df1.sort_values(by=['cases'], ascending = False).head(10)['fatality rate']\n",
    "\n",
    "plt.bar(h_countries, frate)\n",
    "plt.xticks(range(len(h_countries)), h_countries, rotation='vertical')\n",
    "plt.xlabel('Countries')\n",
    "plt.ylabel('Fatality Rate (%)')\n",
    "plt.title('Fatality Rate Visualisation')\n",
    "plt.show()"
   ]
  },
  {
   "cell_type": "markdown",
   "id": "f71c117a",
   "metadata": {},
   "source": [
    "Question 3 - \n",
    "Breaking df1 dataframe into subdataframes according to the region, and calculating mean of cases in last 24 hours in each region.\n",
    "Storing the means in a 'region':'mean' dictionary named 'record'.\n",
    "Plotting the keys and values of the dictionary in a bar plot."
   ]
  },
  {
   "cell_type": "code",
   "execution_count": 205,
   "id": "18618c7c",
   "metadata": {},
   "outputs": [
    {
     "data": {
      "image/png": "[encoded data removed]",
      "text/plain": [
       "<Figure size 432x288 with 1 Axes>"
      ]
     },
     "metadata": {
      "needs_background": "light"
     },
     "output_type": "display_data"
    }
   ],
   "source": [
    "#q3 case count in the last 24 hours in each region\n",
    "record = {}\n",
    "for name, daf in df1.groupby('region'):\n",
    "    if name not in record:\n",
    "        record[name] = daf['cases24h'].mean()\n",
    "plt.bar(record.keys(), record.values())\n",
    "plt.xticks(range(len(record)), record.keys(), rotation='vertical')\n",
    "plt.xlabel('Regions')\n",
    "plt.ylabel('Cases in last 24 hours')\n",
    "plt.title('Region wise Cumulative Cases in last 24 hours Visualisation')\n",
    "plt.show()"
   ]
  },
  {
   "cell_type": "markdown",
   "id": "5da490d0",
   "metadata": {},
   "source": [
    "Europe Region is affected the most in last 24 hours, South East Asia shows a recovery mode."
   ]
  },
  {
   "cell_type": "code",
   "execution_count": 96,
   "id": "1bbf563c",
   "metadata": {},
   "outputs": [
    {
     "name": "stderr",
     "output_type": "stream",
     "text": [
      "<ipython-input-96-84900aedd8d6>:2: SettingWithCopyWarning: \n",
      "A value is trying to be set on a copy of a slice from a DataFrame.\n",
      "Try using .loc[row_indexer,col_indexer] = value instead\n",
      "\n",
      "See the caveats in the documentation: https://pandas.pydata.org/pandas-docs/stable/user_guide/indexing.html#returning-a-view-versus-a-copy\n",
      "  df1['population'] = (df1['cases']/df1['cases100k'])*100000\n"
     ]
    },
    {
     "data": {
      "text/html": [
       "<div>\n",
       "<style scoped>\n",
       "    .dataframe tbody tr th:only-of-type {\n",
       "        vertical-align: middle;\n",
       "    }\n",
       "\n",
       "    .dataframe tbody tr th {\n",
       "        vertical-align: top;\n",
       "    }\n",
       "\n",
       "    .dataframe thead th {\n",
       "        text-align: right;\n",
       "    }\n",
       "</style>\n",
       "<table border=\"1\" class=\"dataframe\">\n",
       "  <thead>\n",
       "    <tr style=\"text-align: right;\">\n",
       "      <th></th>\n",
       "      <th>name</th>\n",
       "      <th>region</th>\n",
       "      <th>cases</th>\n",
       "      <th>cases100k</th>\n",
       "      <th>cases7days</th>\n",
       "      <th>cases7days100k</th>\n",
       "      <th>cases24h</th>\n",
       "      <th>deaths</th>\n",
       "      <th>deaths100k</th>\n",
       "      <th>deaths7days</th>\n",
       "      <th>deaths7days100k</th>\n",
       "      <th>deaths24h</th>\n",
       "      <th>fatality rate</th>\n",
       "      <th>population</th>\n",
       "    </tr>\n",
       "  </thead>\n",
       "  <tbody>\n",
       "    <tr>\n",
       "      <th>1</th>\n",
       "      <td>Germany</td>\n",
       "      <td>Europe</td>\n",
       "      <td>17787826.0</td>\n",
       "      <td>1288.97</td>\n",
       "      <td>78074.0</td>\n",
       "      <td>5.66</td>\n",
       "      <td>11149.0</td>\n",
       "      <td>236080.0</td>\n",
       "      <td>17.11</td>\n",
       "      <td>938.0</td>\n",
       "      <td>0.07</td>\n",
       "      <td>142.0</td>\n",
       "      <td>1.327200</td>\n",
       "      <td>1.380003e+09</td>\n",
       "    </tr>\n",
       "    <tr>\n",
       "      <th>2</th>\n",
       "      <td>Montenegro</td>\n",
       "      <td>Europe</td>\n",
       "      <td>11285084.0</td>\n",
       "      <td>5309.14</td>\n",
       "      <td>61584.0</td>\n",
       "      <td>28.97</td>\n",
       "      <td>9384.0</td>\n",
       "      <td>314348.0</td>\n",
       "      <td>147.89</td>\n",
       "      <td>1698.0</td>\n",
       "      <td>0.80</td>\n",
       "      <td>278.0</td>\n",
       "      <td>2.785518</td>\n",
       "      <td>2.125595e+08</td>\n",
       "    </tr>\n",
       "    <tr>\n",
       "      <th>3</th>\n",
       "      <td>Poland</td>\n",
       "      <td>Europe</td>\n",
       "      <td>4220122.0</td>\n",
       "      <td>6216.48</td>\n",
       "      <td>125535.0</td>\n",
       "      <td>184.92</td>\n",
       "      <td>20837.0</td>\n",
       "      <td>72072.0</td>\n",
       "      <td>106.16</td>\n",
       "      <td>396.0</td>\n",
       "      <td>0.58</td>\n",
       "      <td>64.0</td>\n",
       "      <td>1.707818</td>\n",
       "      <td>6.788604e+07</td>\n",
       "    </tr>\n",
       "    <tr>\n",
       "      <th>5</th>\n",
       "      <td>Guinea</td>\n",
       "      <td>Africa</td>\n",
       "      <td>3858730.0</td>\n",
       "      <td>4575.26</td>\n",
       "      <td>106608.0</td>\n",
       "      <td>126.40</td>\n",
       "      <td>15744.0</td>\n",
       "      <td>34400.0</td>\n",
       "      <td>40.79</td>\n",
       "      <td>806.0</td>\n",
       "      <td>0.95</td>\n",
       "      <td>114.0</td>\n",
       "      <td>0.891485</td>\n",
       "      <td>8.433903e+07</td>\n",
       "    </tr>\n",
       "    <tr>\n",
       "      <th>6</th>\n",
       "      <td>Saint Pierre and Miquelon</td>\n",
       "      <td>Americas</td>\n",
       "      <td>3580016.0</td>\n",
       "      <td>5504.38</td>\n",
       "      <td>14143.0</td>\n",
       "      <td>21.74</td>\n",
       "      <td>2363.0</td>\n",
       "      <td>60152.0</td>\n",
       "      <td>92.49</td>\n",
       "      <td>116.0</td>\n",
       "      <td>0.18</td>\n",
       "      <td>17.0</td>\n",
       "      <td>1.680216</td>\n",
       "      <td>6.503940e+07</td>\n",
       "    </tr>\n",
       "  </tbody>\n",
       "</table>\n",
       "</div>"
      ],
      "text/plain": [
       "                        name    region       cases  cases100k  cases7days  \\\n",
       "1                    Germany    Europe  17787826.0    1288.97     78074.0   \n",
       "2                 Montenegro    Europe  11285084.0    5309.14     61584.0   \n",
       "3                     Poland    Europe   4220122.0    6216.48    125535.0   \n",
       "5                     Guinea    Africa   3858730.0    4575.26    106608.0   \n",
       "6  Saint Pierre and Miquelon  Americas   3580016.0    5504.38     14143.0   \n",
       "\n",
       "   cases7days100k  cases24h    deaths  deaths100k  deaths7days  \\\n",
       "1            5.66   11149.0  236080.0       17.11        938.0   \n",
       "2           28.97    9384.0  314348.0      147.89       1698.0   \n",
       "3          184.92   20837.0   72072.0      106.16        396.0   \n",
       "5          126.40   15744.0   34400.0       40.79        806.0   \n",
       "6           21.74    2363.0   60152.0       92.49        116.0   \n",
       "\n",
       "   deaths7days100k  deaths24h  fatality rate    population  \n",
       "1             0.07      142.0       1.327200  1.380003e+09  \n",
       "2             0.80      278.0       2.785518  2.125595e+08  \n",
       "3             0.58       64.0       1.707818  6.788604e+07  \n",
       "5             0.95      114.0       0.891485  8.433903e+07  \n",
       "6             0.18       17.0       1.680216  6.503940e+07  "
      ]
     },
     "execution_count": 96,
     "metadata": {},
     "output_type": "execute_result"
    }
   ],
   "source": [
    "#4 new population column\n",
    "df1['population'] = (df1['cases']/df1['cases100k'])*100000\n",
    "df1.head(5)"
   ]
  },
  {
   "cell_type": "markdown",
   "id": "a2cfc95f",
   "metadata": {},
   "source": [
    "# Task Questions"
   ]
  },
  {
   "cell_type": "code",
   "execution_count": 98,
   "id": "8d0657ba",
   "metadata": {},
   "outputs": [],
   "source": [
    "#1 handling null values\n",
    "#copying df to df2 for clean code and not messing up with the main dataframe\n",
    "df2 = df"
   ]
  },
  {
   "cell_type": "code",
   "execution_count": 99,
   "id": "92b55d58",
   "metadata": {},
   "outputs": [
    {
     "data": {
      "text/plain": [
       "name               0\n",
       "region             0\n",
       "cases              1\n",
       "cases100k          0\n",
       "cases7days         3\n",
       "cases7days100k     2\n",
       "cases24h           0\n",
       "deaths             1\n",
       "deaths100k         0\n",
       "deaths7days        3\n",
       "deaths7days100k    2\n",
       "deaths24h          0\n",
       "dtype: int64"
      ]
     },
     "execution_count": 99,
     "metadata": {},
     "output_type": "execute_result"
    }
   ],
   "source": [
    "df.isnull().sum()\n",
    "#need to handle the null values"
   ]
  },
  {
   "cell_type": "code",
   "execution_count": 100,
   "id": "4b8a1473",
   "metadata": {},
   "outputs": [
    {
     "data": {
      "text/html": [
       "<div>\n",
       "<style scoped>\n",
       "    .dataframe tbody tr th:only-of-type {\n",
       "        vertical-align: middle;\n",
       "    }\n",
       "\n",
       "    .dataframe tbody tr th {\n",
       "        vertical-align: top;\n",
       "    }\n",
       "\n",
       "    .dataframe thead th {\n",
       "        text-align: right;\n",
       "    }\n",
       "</style>\n",
       "<table border=\"1\" class=\"dataframe\">\n",
       "  <thead>\n",
       "    <tr style=\"text-align: right;\">\n",
       "      <th></th>\n",
       "      <th>name</th>\n",
       "      <th>region</th>\n",
       "      <th>cases</th>\n",
       "      <th>cases100k</th>\n",
       "      <th>cases7days</th>\n",
       "      <th>cases7days100k</th>\n",
       "      <th>cases24h</th>\n",
       "      <th>deaths</th>\n",
       "      <th>deaths100k</th>\n",
       "      <th>deaths7days</th>\n",
       "      <th>deaths7days100k</th>\n",
       "      <th>deaths24h</th>\n",
       "    </tr>\n",
       "  </thead>\n",
       "  <tbody>\n",
       "    <tr>\n",
       "      <th>0</th>\n",
       "      <td>Finland</td>\n",
       "      <td>Europe</td>\n",
       "      <td>22967888.0</td>\n",
       "      <td>6938.88</td>\n",
       "      <td>370430.0</td>\n",
       "      <td>NaN</td>\n",
       "      <td>59255.0</td>\n",
       "      <td>369019.0</td>\n",
       "      <td>111.49</td>\n",
       "      <td>6460.0</td>\n",
       "      <td>NaN</td>\n",
       "      <td>992.0</td>\n",
       "    </tr>\n",
       "    <tr>\n",
       "      <th>4</th>\n",
       "      <td>Myanmar</td>\n",
       "      <td>South-East Asia</td>\n",
       "      <td>4047551.0</td>\n",
       "      <td>2773.54</td>\n",
       "      <td>NaN</td>\n",
       "      <td>65.34</td>\n",
       "      <td>14290.0</td>\n",
       "      <td>112492.0</td>\n",
       "      <td>77.08</td>\n",
       "      <td>3327.0</td>\n",
       "      <td>2.28</td>\n",
       "      <td>491.0</td>\n",
       "    </tr>\n",
       "    <tr>\n",
       "      <th>8</th>\n",
       "      <td>Mozambique</td>\n",
       "      <td>Africa</td>\n",
       "      <td>NaN</td>\n",
       "      <td>6107.70</td>\n",
       "      <td>4174.0</td>\n",
       "      <td>9.24</td>\n",
       "      <td>673.0</td>\n",
       "      <td>60513.0</td>\n",
       "      <td>133.89</td>\n",
       "      <td>NaN</td>\n",
       "      <td>0.29</td>\n",
       "      <td>29.0</td>\n",
       "    </tr>\n",
       "    <tr>\n",
       "      <th>9</th>\n",
       "      <td>Uganda</td>\n",
       "      <td>Africa</td>\n",
       "      <td>2607322.0</td>\n",
       "      <td>5508.51</td>\n",
       "      <td>5015.0</td>\n",
       "      <td>10.59</td>\n",
       "      <td>406.0</td>\n",
       "      <td>45472.0</td>\n",
       "      <td>96.07</td>\n",
       "      <td>NaN</td>\n",
       "      <td>0.13</td>\n",
       "      <td>3.0</td>\n",
       "    </tr>\n",
       "    <tr>\n",
       "      <th>14</th>\n",
       "      <td>Bahrain</td>\n",
       "      <td>Eastern Mediterranean</td>\n",
       "      <td>1940354.0</td>\n",
       "      <td>1504.94</td>\n",
       "      <td>23195.0</td>\n",
       "      <td>17.99</td>\n",
       "      <td>4037.0</td>\n",
       "      <td>NaN</td>\n",
       "      <td>114.15</td>\n",
       "      <td>1908.0</td>\n",
       "      <td>1.48</td>\n",
       "      <td>374.0</td>\n",
       "    </tr>\n",
       "    <tr>\n",
       "      <th>15</th>\n",
       "      <td>Cayman Islands</td>\n",
       "      <td>Americas</td>\n",
       "      <td>1530867.0</td>\n",
       "      <td>4033.04</td>\n",
       "      <td>NaN</td>\n",
       "      <td>14.41</td>\n",
       "      <td>993.0</td>\n",
       "      <td>39773.0</td>\n",
       "      <td>104.78</td>\n",
       "      <td>88.0</td>\n",
       "      <td>0.23</td>\n",
       "      <td>16.0</td>\n",
       "    </tr>\n",
       "    <tr>\n",
       "      <th>18</th>\n",
       "      <td>Chad</td>\n",
       "      <td>Africa</td>\n",
       "      <td>1318530.0</td>\n",
       "      <td>3014.90</td>\n",
       "      <td>41219.0</td>\n",
       "      <td>94.25</td>\n",
       "      <td>8581.0</td>\n",
       "      <td>30462.0</td>\n",
       "      <td>69.66</td>\n",
       "      <td>858.0</td>\n",
       "      <td>NaN</td>\n",
       "      <td>126.0</td>\n",
       "    </tr>\n",
       "    <tr>\n",
       "      <th>48</th>\n",
       "      <td>Croatia</td>\n",
       "      <td>Europe</td>\n",
       "      <td>329747.0</td>\n",
       "      <td>8266.04</td>\n",
       "      <td>NaN</td>\n",
       "      <td>183.49</td>\n",
       "      <td>1396.0</td>\n",
       "      <td>4821.0</td>\n",
       "      <td>120.85</td>\n",
       "      <td>113.0</td>\n",
       "      <td>2.84</td>\n",
       "      <td>16.0</td>\n",
       "    </tr>\n",
       "    <tr>\n",
       "      <th>69</th>\n",
       "      <td>Trinidad and Tobago</td>\n",
       "      <td>Americas</td>\n",
       "      <td>193547.0</td>\n",
       "      <td>1954.11</td>\n",
       "      <td>1592.0</td>\n",
       "      <td>NaN</td>\n",
       "      <td>197.0</td>\n",
       "      <td>5218.0</td>\n",
       "      <td>52.68</td>\n",
       "      <td>NaN</td>\n",
       "      <td>0.91</td>\n",
       "      <td>19.0</td>\n",
       "    </tr>\n",
       "  </tbody>\n",
       "</table>\n",
       "</div>"
      ],
      "text/plain": [
       "                   name                 region       cases  cases100k  \\\n",
       "0               Finland                 Europe  22967888.0    6938.88   \n",
       "4               Myanmar        South-East Asia   4047551.0    2773.54   \n",
       "8            Mozambique                 Africa         NaN    6107.70   \n",
       "9                Uganda                 Africa   2607322.0    5508.51   \n",
       "14              Bahrain  Eastern Mediterranean   1940354.0    1504.94   \n",
       "15       Cayman Islands               Americas   1530867.0    4033.04   \n",
       "18                 Chad                 Africa   1318530.0    3014.90   \n",
       "48              Croatia                 Europe    329747.0    8266.04   \n",
       "69  Trinidad and Tobago               Americas    193547.0    1954.11   \n",
       "\n",
       "    cases7days  cases7days100k  cases24h    deaths  deaths100k  deaths7days  \\\n",
       "0     370430.0             NaN   59255.0  369019.0      111.49       6460.0   \n",
       "4          NaN           65.34   14290.0  112492.0       77.08       3327.0   \n",
       "8       4174.0            9.24     673.0   60513.0      133.89          NaN   \n",
       "9       5015.0           10.59     406.0   45472.0       96.07          NaN   \n",
       "14     23195.0           17.99    4037.0       NaN      114.15       1908.0   \n",
       "15         NaN           14.41     993.0   39773.0      104.78         88.0   \n",
       "18     41219.0           94.25    8581.0   30462.0       69.66        858.0   \n",
       "48         NaN          183.49    1396.0    4821.0      120.85        113.0   \n",
       "69      1592.0             NaN     197.0    5218.0       52.68          NaN   \n",
       "\n",
       "    deaths7days100k  deaths24h  \n",
       "0               NaN      992.0  \n",
       "4              2.28      491.0  \n",
       "8              0.29       29.0  \n",
       "9              0.13        3.0  \n",
       "14             1.48      374.0  \n",
       "15             0.23       16.0  \n",
       "18              NaN      126.0  \n",
       "48             2.84       16.0  \n",
       "69             0.91       19.0  "
      ]
     },
     "execution_count": 100,
     "metadata": {},
     "output_type": "execute_result"
    }
   ],
   "source": [
    "df2[df2.isnull().any(axis=1)]"
   ]
  },
  {
   "cell_type": "code",
   "execution_count": 101,
   "id": "5a5c1e1c",
   "metadata": {},
   "outputs": [],
   "source": [
    "df2['cases'].fillna(df2['cases100k']*100000, inplace = True)\n",
    "df2['cases7days'].fillna(df2['cases24h']*7, inplace = True)\n",
    "df2['cases7days100k'].fillna(df2['cases7days']/100000, inplace = True)"
   ]
  },
  {
   "cell_type": "code",
   "execution_count": 102,
   "id": "85ba8961",
   "metadata": {},
   "outputs": [
    {
     "data": {
      "text/html": [
       "<div>\n",
       "<style scoped>\n",
       "    .dataframe tbody tr th:only-of-type {\n",
       "        vertical-align: middle;\n",
       "    }\n",
       "\n",
       "    .dataframe tbody tr th {\n",
       "        vertical-align: top;\n",
       "    }\n",
       "\n",
       "    .dataframe thead th {\n",
       "        text-align: right;\n",
       "    }\n",
       "</style>\n",
       "<table border=\"1\" class=\"dataframe\">\n",
       "  <thead>\n",
       "    <tr style=\"text-align: right;\">\n",
       "      <th></th>\n",
       "      <th>name</th>\n",
       "      <th>region</th>\n",
       "      <th>cases</th>\n",
       "      <th>cases100k</th>\n",
       "      <th>cases7days</th>\n",
       "      <th>cases7days100k</th>\n",
       "      <th>cases24h</th>\n",
       "      <th>deaths</th>\n",
       "      <th>deaths100k</th>\n",
       "      <th>deaths7days</th>\n",
       "      <th>deaths7days100k</th>\n",
       "      <th>deaths24h</th>\n",
       "    </tr>\n",
       "  </thead>\n",
       "  <tbody>\n",
       "    <tr>\n",
       "      <th>0</th>\n",
       "      <td>Finland</td>\n",
       "      <td>Europe</td>\n",
       "      <td>22967888.0</td>\n",
       "      <td>6938.88</td>\n",
       "      <td>370430.0</td>\n",
       "      <td>3.70430</td>\n",
       "      <td>59255.0</td>\n",
       "      <td>369019.0</td>\n",
       "      <td>111.49</td>\n",
       "      <td>6460.0</td>\n",
       "      <td>NaN</td>\n",
       "      <td>992.0</td>\n",
       "    </tr>\n",
       "    <tr>\n",
       "      <th>8</th>\n",
       "      <td>Mozambique</td>\n",
       "      <td>Africa</td>\n",
       "      <td>610770000.0</td>\n",
       "      <td>6107.70</td>\n",
       "      <td>4174.0</td>\n",
       "      <td>9.24000</td>\n",
       "      <td>673.0</td>\n",
       "      <td>60513.0</td>\n",
       "      <td>133.89</td>\n",
       "      <td>NaN</td>\n",
       "      <td>0.29</td>\n",
       "      <td>29.0</td>\n",
       "    </tr>\n",
       "    <tr>\n",
       "      <th>9</th>\n",
       "      <td>Uganda</td>\n",
       "      <td>Africa</td>\n",
       "      <td>2607322.0</td>\n",
       "      <td>5508.51</td>\n",
       "      <td>5015.0</td>\n",
       "      <td>10.59000</td>\n",
       "      <td>406.0</td>\n",
       "      <td>45472.0</td>\n",
       "      <td>96.07</td>\n",
       "      <td>NaN</td>\n",
       "      <td>0.13</td>\n",
       "      <td>3.0</td>\n",
       "    </tr>\n",
       "    <tr>\n",
       "      <th>14</th>\n",
       "      <td>Bahrain</td>\n",
       "      <td>Eastern Mediterranean</td>\n",
       "      <td>1940354.0</td>\n",
       "      <td>1504.94</td>\n",
       "      <td>23195.0</td>\n",
       "      <td>17.99000</td>\n",
       "      <td>4037.0</td>\n",
       "      <td>NaN</td>\n",
       "      <td>114.15</td>\n",
       "      <td>1908.0</td>\n",
       "      <td>1.48</td>\n",
       "      <td>374.0</td>\n",
       "    </tr>\n",
       "    <tr>\n",
       "      <th>18</th>\n",
       "      <td>Chad</td>\n",
       "      <td>Africa</td>\n",
       "      <td>1318530.0</td>\n",
       "      <td>3014.90</td>\n",
       "      <td>41219.0</td>\n",
       "      <td>94.25000</td>\n",
       "      <td>8581.0</td>\n",
       "      <td>30462.0</td>\n",
       "      <td>69.66</td>\n",
       "      <td>858.0</td>\n",
       "      <td>NaN</td>\n",
       "      <td>126.0</td>\n",
       "    </tr>\n",
       "    <tr>\n",
       "      <th>69</th>\n",
       "      <td>Trinidad and Tobago</td>\n",
       "      <td>Americas</td>\n",
       "      <td>193547.0</td>\n",
       "      <td>1954.11</td>\n",
       "      <td>1592.0</td>\n",
       "      <td>0.01592</td>\n",
       "      <td>197.0</td>\n",
       "      <td>5218.0</td>\n",
       "      <td>52.68</td>\n",
       "      <td>NaN</td>\n",
       "      <td>0.91</td>\n",
       "      <td>19.0</td>\n",
       "    </tr>\n",
       "  </tbody>\n",
       "</table>\n",
       "</div>"
      ],
      "text/plain": [
       "                   name                 region        cases  cases100k  \\\n",
       "0               Finland                 Europe   22967888.0    6938.88   \n",
       "8            Mozambique                 Africa  610770000.0    6107.70   \n",
       "9                Uganda                 Africa    2607322.0    5508.51   \n",
       "14              Bahrain  Eastern Mediterranean    1940354.0    1504.94   \n",
       "18                 Chad                 Africa    1318530.0    3014.90   \n",
       "69  Trinidad and Tobago               Americas     193547.0    1954.11   \n",
       "\n",
       "    cases7days  cases7days100k  cases24h    deaths  deaths100k  deaths7days  \\\n",
       "0     370430.0         3.70430   59255.0  369019.0      111.49       6460.0   \n",
       "8       4174.0         9.24000     673.0   60513.0      133.89          NaN   \n",
       "9       5015.0        10.59000     406.0   45472.0       96.07          NaN   \n",
       "14     23195.0        17.99000    4037.0       NaN      114.15       1908.0   \n",
       "18     41219.0        94.25000    8581.0   30462.0       69.66        858.0   \n",
       "69      1592.0         0.01592     197.0    5218.0       52.68          NaN   \n",
       "\n",
       "    deaths7days100k  deaths24h  \n",
       "0               NaN      992.0  \n",
       "8              0.29       29.0  \n",
       "9              0.13        3.0  \n",
       "14             1.48      374.0  \n",
       "18              NaN      126.0  \n",
       "69             0.91       19.0  "
      ]
     },
     "execution_count": 102,
     "metadata": {},
     "output_type": "execute_result"
    }
   ],
   "source": [
    "#cases columns with null values handled\n",
    "df2[df2.isnull().any(axis=1)]"
   ]
  },
  {
   "cell_type": "code",
   "execution_count": 103,
   "id": "0e9efd77",
   "metadata": {},
   "outputs": [],
   "source": [
    "df2['deaths'].fillna(df2['deaths100k']*100000, inplace = True)\n",
    "df2['deaths7days'].fillna(df2['deaths24h']*7, inplace = True)\n",
    "df2['deaths7days100k'].fillna(df['deaths7days']/100000, inplace = True)"
   ]
  },
  {
   "cell_type": "code",
   "execution_count": 104,
   "id": "d39b3a3d",
   "metadata": {},
   "outputs": [
    {
     "data": {
      "text/html": [
       "<div>\n",
       "<style scoped>\n",
       "    .dataframe tbody tr th:only-of-type {\n",
       "        vertical-align: middle;\n",
       "    }\n",
       "\n",
       "    .dataframe tbody tr th {\n",
       "        vertical-align: top;\n",
       "    }\n",
       "\n",
       "    .dataframe thead th {\n",
       "        text-align: right;\n",
       "    }\n",
       "</style>\n",
       "<table border=\"1\" class=\"dataframe\">\n",
       "  <thead>\n",
       "    <tr style=\"text-align: right;\">\n",
       "      <th></th>\n",
       "      <th>name</th>\n",
       "      <th>region</th>\n",
       "      <th>cases</th>\n",
       "      <th>cases100k</th>\n",
       "      <th>cases7days</th>\n",
       "      <th>cases7days100k</th>\n",
       "      <th>cases24h</th>\n",
       "      <th>deaths</th>\n",
       "      <th>deaths100k</th>\n",
       "      <th>deaths7days</th>\n",
       "      <th>deaths7days100k</th>\n",
       "      <th>deaths24h</th>\n",
       "    </tr>\n",
       "  </thead>\n",
       "  <tbody>\n",
       "  </tbody>\n",
       "</table>\n",
       "</div>"
      ],
      "text/plain": [
       "Empty DataFrame\n",
       "Columns: [name, region, cases, cases100k, cases7days, cases7days100k, cases24h, deaths, deaths100k, deaths7days, deaths7days100k, deaths24h]\n",
       "Index: []"
      ]
     },
     "execution_count": 104,
     "metadata": {},
     "output_type": "execute_result"
    }
   ],
   "source": [
    "#death columns with null values handled\n",
    "df2[df2.isnull().any(axis=1)]"
   ]
  },
  {
   "cell_type": "code",
   "execution_count": 105,
   "id": "ccac28be",
   "metadata": {},
   "outputs": [
    {
     "data": {
      "text/plain": [
       "name               0\n",
       "region             0\n",
       "cases              0\n",
       "cases100k          0\n",
       "cases7days         0\n",
       "cases7days100k     0\n",
       "cases24h           0\n",
       "deaths             0\n",
       "deaths100k         0\n",
       "deaths7days        0\n",
       "deaths7days100k    0\n",
       "deaths24h          0\n",
       "dtype: int64"
      ]
     },
     "execution_count": 105,
     "metadata": {},
     "output_type": "execute_result"
    }
   ],
   "source": [
    "df2.isnull().sum()\n",
    "#data set is cleaned, free from null values"
   ]
  },
  {
   "cell_type": "code",
   "execution_count": 106,
   "id": "0bd000ed",
   "metadata": {},
   "outputs": [
    {
     "data": {
      "text/html": [
       "<div>\n",
       "<style scoped>\n",
       "    .dataframe tbody tr th:only-of-type {\n",
       "        vertical-align: middle;\n",
       "    }\n",
       "\n",
       "    .dataframe tbody tr th {\n",
       "        vertical-align: top;\n",
       "    }\n",
       "\n",
       "    .dataframe thead th {\n",
       "        text-align: right;\n",
       "    }\n",
       "</style>\n",
       "<table border=\"1\" class=\"dataframe\">\n",
       "  <thead>\n",
       "    <tr style=\"text-align: right;\">\n",
       "      <th></th>\n",
       "      <th>name</th>\n",
       "      <th>region</th>\n",
       "      <th>cases</th>\n",
       "      <th>cases100k</th>\n",
       "      <th>cases7days</th>\n",
       "      <th>cases7days100k</th>\n",
       "      <th>cases24h</th>\n",
       "      <th>deaths</th>\n",
       "      <th>deaths100k</th>\n",
       "      <th>deaths7days</th>\n",
       "      <th>deaths7days100k</th>\n",
       "      <th>deaths24h</th>\n",
       "      <th>fatality rate</th>\n",
       "      <th>population</th>\n",
       "    </tr>\n",
       "  </thead>\n",
       "  <tbody>\n",
       "    <tr>\n",
       "      <th>0</th>\n",
       "      <td>Finland</td>\n",
       "      <td>Europe</td>\n",
       "      <td>22967888.0</td>\n",
       "      <td>6938.88</td>\n",
       "      <td>370430.0</td>\n",
       "      <td>3.7043</td>\n",
       "      <td>59255.0</td>\n",
       "      <td>369019.0</td>\n",
       "      <td>111.49</td>\n",
       "      <td>6460.0</td>\n",
       "      <td>0.0646</td>\n",
       "      <td>992.0</td>\n",
       "      <td>1.606674</td>\n",
       "      <td>3.310028e+08</td>\n",
       "    </tr>\n",
       "    <tr>\n",
       "      <th>1</th>\n",
       "      <td>Germany</td>\n",
       "      <td>Europe</td>\n",
       "      <td>17787826.0</td>\n",
       "      <td>1288.97</td>\n",
       "      <td>78074.0</td>\n",
       "      <td>5.6600</td>\n",
       "      <td>11149.0</td>\n",
       "      <td>236080.0</td>\n",
       "      <td>17.11</td>\n",
       "      <td>938.0</td>\n",
       "      <td>0.0700</td>\n",
       "      <td>142.0</td>\n",
       "      <td>1.327200</td>\n",
       "      <td>1.380003e+09</td>\n",
       "    </tr>\n",
       "    <tr>\n",
       "      <th>2</th>\n",
       "      <td>Montenegro</td>\n",
       "      <td>Europe</td>\n",
       "      <td>11285084.0</td>\n",
       "      <td>5309.14</td>\n",
       "      <td>61584.0</td>\n",
       "      <td>28.9700</td>\n",
       "      <td>9384.0</td>\n",
       "      <td>314348.0</td>\n",
       "      <td>147.89</td>\n",
       "      <td>1698.0</td>\n",
       "      <td>0.8000</td>\n",
       "      <td>278.0</td>\n",
       "      <td>2.785518</td>\n",
       "      <td>2.125595e+08</td>\n",
       "    </tr>\n",
       "    <tr>\n",
       "      <th>3</th>\n",
       "      <td>Poland</td>\n",
       "      <td>Europe</td>\n",
       "      <td>4220122.0</td>\n",
       "      <td>6216.48</td>\n",
       "      <td>125535.0</td>\n",
       "      <td>184.9200</td>\n",
       "      <td>20837.0</td>\n",
       "      <td>72072.0</td>\n",
       "      <td>106.16</td>\n",
       "      <td>396.0</td>\n",
       "      <td>0.5800</td>\n",
       "      <td>64.0</td>\n",
       "      <td>1.707818</td>\n",
       "      <td>6.788604e+07</td>\n",
       "    </tr>\n",
       "    <tr>\n",
       "      <th>4</th>\n",
       "      <td>Myanmar</td>\n",
       "      <td>South-East Asia</td>\n",
       "      <td>4047551.0</td>\n",
       "      <td>2773.54</td>\n",
       "      <td>100030.0</td>\n",
       "      <td>65.3400</td>\n",
       "      <td>14290.0</td>\n",
       "      <td>112492.0</td>\n",
       "      <td>77.08</td>\n",
       "      <td>3327.0</td>\n",
       "      <td>2.2800</td>\n",
       "      <td>491.0</td>\n",
       "      <td>2.779261</td>\n",
       "      <td>1.459345e+08</td>\n",
       "    </tr>\n",
       "  </tbody>\n",
       "</table>\n",
       "</div>"
      ],
      "text/plain": [
       "         name           region       cases  cases100k  cases7days  \\\n",
       "0     Finland           Europe  22967888.0    6938.88    370430.0   \n",
       "1     Germany           Europe  17787826.0    1288.97     78074.0   \n",
       "2  Montenegro           Europe  11285084.0    5309.14     61584.0   \n",
       "3      Poland           Europe   4220122.0    6216.48    125535.0   \n",
       "4     Myanmar  South-East Asia   4047551.0    2773.54    100030.0   \n",
       "\n",
       "   cases7days100k  cases24h    deaths  deaths100k  deaths7days  \\\n",
       "0          3.7043   59255.0  369019.0      111.49       6460.0   \n",
       "1          5.6600   11149.0  236080.0       17.11        938.0   \n",
       "2         28.9700    9384.0  314348.0      147.89       1698.0   \n",
       "3        184.9200   20837.0   72072.0      106.16        396.0   \n",
       "4         65.3400   14290.0  112492.0       77.08       3327.0   \n",
       "\n",
       "   deaths7days100k  deaths24h  fatality rate    population  \n",
       "0           0.0646      992.0       1.606674  3.310028e+08  \n",
       "1           0.0700      142.0       1.327200  1.380003e+09  \n",
       "2           0.8000      278.0       2.785518  2.125595e+08  \n",
       "3           0.5800       64.0       1.707818  6.788604e+07  \n",
       "4           2.2800      491.0       2.779261  1.459345e+08  "
      ]
     },
     "execution_count": 106,
     "metadata": {},
     "output_type": "execute_result"
    }
   ],
   "source": [
    "df2['fatality rate'] = (df2['deaths']/df2['cases'])*100\n",
    "df2['population'] = (df2['cases']/df2['cases100k'])*100000\n",
    "df2.head(5)"
   ]
  },
  {
   "cell_type": "code",
   "execution_count": 111,
   "id": "20ec8388",
   "metadata": {},
   "outputs": [
    {
     "data": {
      "text/plain": [
       "(236, 14)"
      ]
     },
     "execution_count": 111,
     "metadata": {},
     "output_type": "execute_result"
    }
   ],
   "source": [
    "df2.shape"
   ]
  },
  {
   "cell_type": "code",
   "execution_count": 115,
   "id": "b13e6607",
   "metadata": {},
   "outputs": [
    {
     "data": {
      "text/plain": [
       "202                              South Sudan\n",
       "209    Democratic People's Republic of Korea\n",
       "Name: name, dtype: object"
      ]
     },
     "execution_count": 115,
     "metadata": {},
     "output_type": "execute_result"
    }
   ],
   "source": [
    "#2 countries suffering outbreak\n",
    "outbreak_countries = df2.loc[df2['cases24h'] > 0.5*(df2['cases7days'])].head(10).name\n",
    "outbreak_countries"
   ]
  },
  {
   "cell_type": "markdown",
   "id": "855bee54",
   "metadata": {},
   "source": [
    "Locating countries with the given logic and listing top 10 countries. \n",
    "Given the constraint only two countries have been identified and name is extracted.\n"
   ]
  },
  {
   "cell_type": "markdown",
   "id": "7f47f1c6",
   "metadata": {},
   "source": [
    "South Sudan and Democratic People's Republic of Korea are suffering an outbreak."
   ]
  },
  {
   "cell_type": "markdown",
   "id": "b7275ee7",
   "metadata": {},
   "source": [
    "# Europe vs America Visualisation"
   ]
  },
  {
   "cell_type": "code",
   "execution_count": 128,
   "id": "58b769a5",
   "metadata": {},
   "outputs": [
    {
     "data": {
      "text/html": [
       "<div>\n",
       "<style scoped>\n",
       "    .dataframe tbody tr th:only-of-type {\n",
       "        vertical-align: middle;\n",
       "    }\n",
       "\n",
       "    .dataframe tbody tr th {\n",
       "        vertical-align: top;\n",
       "    }\n",
       "\n",
       "    .dataframe thead th {\n",
       "        text-align: right;\n",
       "    }\n",
       "</style>\n",
       "<table border=\"1\" class=\"dataframe\">\n",
       "  <thead>\n",
       "    <tr style=\"text-align: right;\">\n",
       "      <th></th>\n",
       "      <th>name</th>\n",
       "      <th>region</th>\n",
       "      <th>cases</th>\n",
       "      <th>cases100k</th>\n",
       "      <th>cases7days</th>\n",
       "      <th>cases7days100k</th>\n",
       "      <th>cases24h</th>\n",
       "      <th>deaths</th>\n",
       "      <th>deaths100k</th>\n",
       "      <th>deaths7days</th>\n",
       "      <th>deaths7days100k</th>\n",
       "      <th>deaths24h</th>\n",
       "      <th>fatality rate</th>\n",
       "      <th>population</th>\n",
       "    </tr>\n",
       "  </thead>\n",
       "  <tbody>\n",
       "    <tr>\n",
       "      <th>0</th>\n",
       "      <td>Finland</td>\n",
       "      <td>Europe</td>\n",
       "      <td>22967888</td>\n",
       "      <td>6938.88</td>\n",
       "      <td>370430.0</td>\n",
       "      <td>3.7043</td>\n",
       "      <td>59255.0</td>\n",
       "      <td>369019.0</td>\n",
       "      <td>111.49</td>\n",
       "      <td>6460.0</td>\n",
       "      <td>0.0646</td>\n",
       "      <td>992.0</td>\n",
       "      <td>1.606674</td>\n",
       "      <td>3.310028e+08</td>\n",
       "    </tr>\n",
       "    <tr>\n",
       "      <th>1</th>\n",
       "      <td>Germany</td>\n",
       "      <td>Europe</td>\n",
       "      <td>17787826</td>\n",
       "      <td>1288.97</td>\n",
       "      <td>78074.0</td>\n",
       "      <td>5.6600</td>\n",
       "      <td>11149.0</td>\n",
       "      <td>236080.0</td>\n",
       "      <td>17.11</td>\n",
       "      <td>938.0</td>\n",
       "      <td>0.0700</td>\n",
       "      <td>142.0</td>\n",
       "      <td>1.327200</td>\n",
       "      <td>1.380003e+09</td>\n",
       "    </tr>\n",
       "    <tr>\n",
       "      <th>2</th>\n",
       "      <td>Montenegro</td>\n",
       "      <td>Europe</td>\n",
       "      <td>11285084</td>\n",
       "      <td>5309.14</td>\n",
       "      <td>61584.0</td>\n",
       "      <td>28.9700</td>\n",
       "      <td>9384.0</td>\n",
       "      <td>314348.0</td>\n",
       "      <td>147.89</td>\n",
       "      <td>1698.0</td>\n",
       "      <td>0.8000</td>\n",
       "      <td>278.0</td>\n",
       "      <td>2.785518</td>\n",
       "      <td>2.125595e+08</td>\n",
       "    </tr>\n",
       "    <tr>\n",
       "      <th>3</th>\n",
       "      <td>Poland</td>\n",
       "      <td>Europe</td>\n",
       "      <td>4220122</td>\n",
       "      <td>6216.48</td>\n",
       "      <td>125535.0</td>\n",
       "      <td>184.9200</td>\n",
       "      <td>20837.0</td>\n",
       "      <td>72072.0</td>\n",
       "      <td>106.16</td>\n",
       "      <td>396.0</td>\n",
       "      <td>0.5800</td>\n",
       "      <td>64.0</td>\n",
       "      <td>1.707818</td>\n",
       "      <td>6.788604e+07</td>\n",
       "    </tr>\n",
       "    <tr>\n",
       "      <th>4</th>\n",
       "      <td>Myanmar</td>\n",
       "      <td>South-East Asia</td>\n",
       "      <td>4047551</td>\n",
       "      <td>2773.54</td>\n",
       "      <td>100030.0</td>\n",
       "      <td>65.3400</td>\n",
       "      <td>14290.0</td>\n",
       "      <td>112492.0</td>\n",
       "      <td>77.08</td>\n",
       "      <td>3327.0</td>\n",
       "      <td>2.2800</td>\n",
       "      <td>491.0</td>\n",
       "      <td>2.779261</td>\n",
       "      <td>1.459345e+08</td>\n",
       "    </tr>\n",
       "  </tbody>\n",
       "</table>\n",
       "</div>"
      ],
      "text/plain": [
       "         name           region     cases  cases100k  cases7days  \\\n",
       "0     Finland           Europe  22967888    6938.88    370430.0   \n",
       "1     Germany           Europe  17787826    1288.97     78074.0   \n",
       "2  Montenegro           Europe  11285084    5309.14     61584.0   \n",
       "3      Poland           Europe   4220122    6216.48    125535.0   \n",
       "4     Myanmar  South-East Asia   4047551    2773.54    100030.0   \n",
       "\n",
       "   cases7days100k  cases24h    deaths  deaths100k  deaths7days  \\\n",
       "0          3.7043   59255.0  369019.0      111.49       6460.0   \n",
       "1          5.6600   11149.0  236080.0       17.11        938.0   \n",
       "2         28.9700    9384.0  314348.0      147.89       1698.0   \n",
       "3        184.9200   20837.0   72072.0      106.16        396.0   \n",
       "4         65.3400   14290.0  112492.0       77.08       3327.0   \n",
       "\n",
       "   deaths7days100k  deaths24h  fatality rate    population  \n",
       "0           0.0646      992.0       1.606674  3.310028e+08  \n",
       "1           0.0700      142.0       1.327200  1.380003e+09  \n",
       "2           0.8000      278.0       2.785518  2.125595e+08  \n",
       "3           0.5800       64.0       1.707818  6.788604e+07  \n",
       "4           2.2800      491.0       2.779261  1.459345e+08  "
      ]
     },
     "execution_count": 128,
     "metadata": {},
     "output_type": "execute_result"
    }
   ],
   "source": [
    "#q3\n",
    "#copying into a new dataframe df3 for analysis convienience\n",
    "df3 = df2\n",
    "df3.head(5)"
   ]
  },
  {
   "cell_type": "code",
   "execution_count": 206,
   "id": "b0b15791",
   "metadata": {},
   "outputs": [
    {
     "data": {
      "image/png": "[encoded data removed]",
      "text/plain": [
       "<Figure size 432x288 with 1 Axes>"
      ]
     },
     "metadata": {
      "needs_background": "light"
     },
     "output_type": "display_data"
    }
   ],
   "source": [
    "#cases visualisation\n",
    "plt.bar(['Europe', 'Americas'], [(df3[df3['region']=='Europe']['cases'].mean()), (df3[df3['region']=='Americas']['cases'].mean())], width = 0.2)\n",
    "plt.xlabel(\"Countries\")\n",
    "plt.ylabel(\"Number of Cases\")\n",
    "plt.title('Cumulative Cases Visualisation')\n",
    "plt.show()"
   ]
  },
  {
   "cell_type": "markdown",
   "id": "48d71e64",
   "metadata": {},
   "source": [
    "Europe has more cases than Americas, which shows that Europe has been badly affected than Americas"
   ]
  },
  {
   "cell_type": "code",
   "execution_count": 178,
   "id": "2ae791e4",
   "metadata": {},
   "outputs": [
    {
     "data": {
      "image/png": "[encoded data removed]",
      "text/plain": [
       "<Figure size 432x288 with 1 Axes>"
      ]
     },
     "metadata": {
      "needs_background": "light"
     },
     "output_type": "display_data"
    }
   ],
   "source": [
    "#cases100k visualisation\n",
    "plt.bar(['Europe', 'Americas'], [(df3[df3['region']=='Europe']['cases100k'].mean()), (df3[df3['region']=='Americas']['cases100k'].mean())], width = 0.2)\n",
    "plt.xlabel(\"Countries\")\n",
    "plt.ylabel(\"Number of Cases per 100k\")\n",
    "plt.title('Cases per 100k Visualisation')\n",
    "plt.show()"
   ]
  },
  {
   "cell_type": "code",
   "execution_count": 179,
   "id": "9bceaa5f",
   "metadata": {},
   "outputs": [
    {
     "data": {
      "image/png": "[encoded data removed]",
      "text/plain": [
       "<Figure size 432x288 with 1 Axes>"
      ]
     },
     "metadata": {
      "needs_background": "light"
     },
     "output_type": "display_data"
    }
   ],
   "source": [
    "#cases7days visualisation\n",
    "plt.bar(['Europe', 'Americas'], [(df3[df3['region']=='Europe']['cases7days'].mean()), (df3[df3['region']=='Americas']['cases7days'].mean())], width = 0.2)\n",
    "plt.xlabel(\"Countries\")\n",
    "plt.ylabel(\"Number of Cases in last 7 days\")\n",
    "plt.title('Cases in last 7 days Visualisation')\n",
    "plt.show()"
   ]
  },
  {
   "cell_type": "markdown",
   "id": "8669c1a8",
   "metadata": {},
   "source": [
    "Europe has more cases increasing in the last 7 days than Americas, which shows that the spread in Europe is exponential than Americas, measures need to be taken to control the spread."
   ]
  },
  {
   "cell_type": "code",
   "execution_count": 180,
   "id": "d5488aa4",
   "metadata": {},
   "outputs": [
    {
     "data": {
      "image/png": "[encoded data removed]",
      "text/plain": [
       "<Figure size 432x288 with 1 Axes>"
      ]
     },
     "metadata": {
      "needs_background": "light"
     },
     "output_type": "display_data"
    }
   ],
   "source": [
    "#cases7days100k visualisation\n",
    "plt.bar(['Europe', 'Americas'], [(df3[df3['region']=='Europe']['cases7days100k'].mean()), (df3[df3['region']=='Americas']['cases7days100k'].mean())], width = 0.2)\n",
    "plt.xlabel(\"Countries\")\n",
    "plt.ylabel(\"Number of Cases in last 7 days per 100k\")\n",
    "plt.title('Cases in last 7 days per 100k Visualisation')\n",
    "plt.show()"
   ]
  },
  {
   "cell_type": "markdown",
   "id": "c19127fa",
   "metadata": {},
   "source": [
    "Europe has more cases increasing in the last 7 days per 100k population than Americas, which shows that the spread in Europe is vast than Americas"
   ]
  },
  {
   "cell_type": "code",
   "execution_count": 181,
   "id": "c74b35ef",
   "metadata": {},
   "outputs": [
    {
     "data": {
      "image/png": "[encoded data removed]",
      "text/plain": [
       "<Figure size 432x288 with 1 Axes>"
      ]
     },
     "metadata": {
      "needs_background": "light"
     },
     "output_type": "display_data"
    }
   ],
   "source": [
    "#cases24h visualisation\n",
    "plt.bar(['Europe', 'Americas'], [(df3[df3['region']=='Europe']['cases24h'].mean()), (df3[df3['region']=='Americas']['cases24h'].mean())], width = 0.2)\n",
    "plt.xlabel(\"Countries\")\n",
    "plt.ylabel(\"Number of Cases in last 24 Hours\")\n",
    "plt.title('Cases in last 24 Hours Visualisation')\n",
    "plt.show()"
   ]
  },
  {
   "cell_type": "markdown",
   "id": "475a5d4e",
   "metadata": {},
   "source": [
    "Europe has more cases in the last 24 hours than Americas, analysis concludes that Europe is widely affected than America by COVID"
   ]
  },
  {
   "cell_type": "code",
   "execution_count": 182,
   "id": "6812c6d9",
   "metadata": {},
   "outputs": [
    {
     "data": {
      "image/png": "[encoded data removed]",
      "text/plain": [
       "<Figure size 432x288 with 1 Axes>"
      ]
     },
     "metadata": {
      "needs_background": "light"
     },
     "output_type": "display_data"
    }
   ],
   "source": [
    "#further insights\n",
    "#deaths visualisation\n",
    "plt.bar(['Europe', 'Americas'], [(df3[df3['region']=='Europe']['deaths'].mean()), (df3[df3['region']=='Americas']['deaths'].mean())], width = 0.2)\n",
    "plt.xlabel(\"Countries\")\n",
    "plt.ylabel(\"Number of Deaths\")\n",
    "plt.title('Cumulative Deaths Visualisation')\n",
    "plt.show()"
   ]
  },
  {
   "cell_type": "code",
   "execution_count": 183,
   "id": "c2f628dc",
   "metadata": {},
   "outputs": [
    {
     "data": {
      "image/png": "[encoded data removed]",
      "text/plain": [
       "<Figure size 432x288 with 1 Axes>"
      ]
     },
     "metadata": {
      "needs_background": "light"
     },
     "output_type": "display_data"
    }
   ],
   "source": [
    "#deaths100k visualisation\n",
    "plt.bar(['Europe', 'Americas'], [(df3[df3['region']=='Europe']['deaths100k'].mean()), (df3[df3['region']=='Americas']['deaths100k'].mean())], width = 0.2)\n",
    "plt.xlabel(\"Countries\")\n",
    "plt.ylabel(\"Number of Deaths per 100k\")\n",
    "plt.title('Deaths per 100k Visualisation')\n",
    "plt.show()"
   ]
  },
  {
   "cell_type": "code",
   "execution_count": 184,
   "id": "e4b3f66e",
   "metadata": {},
   "outputs": [
    {
     "data": {
      "image/png": "[encoded data removed]",
      "text/plain": [
       "<Figure size 432x288 with 1 Axes>"
      ]
     },
     "metadata": {
      "needs_background": "light"
     },
     "output_type": "display_data"
    }
   ],
   "source": [
    "#deaths7days visualisation\n",
    "plt.bar(['Europe', 'Americas'], [(df3[df3['region']=='Europe']['deaths7days'].mean()), (df3[df3['region']=='Americas']['deaths7days'].mean())], width = 0.2)\n",
    "plt.xlabel(\"Countries\")\n",
    "plt.ylabel(\"Number of Deaths in last 7 days\")\n",
    "plt.title('Deaths in last 7 days Visualisation')\n",
    "plt.show()"
   ]
  },
  {
   "cell_type": "code",
   "execution_count": 185,
   "id": "aa7b78c7",
   "metadata": {},
   "outputs": [
    {
     "data": {
      "image/png": "[encoded data removed]",
      "text/plain": [
       "<Figure size 432x288 with 1 Axes>"
      ]
     },
     "metadata": {
      "needs_background": "light"
     },
     "output_type": "display_data"
    }
   ],
   "source": [
    "#deaths7days100k visualisation\n",
    "plt.bar(['Europe', 'Americas'], [(df3[df3['region']=='Europe']['deaths7days100k'].mean()), (df3[df3['region']=='Americas']['deaths7days100k'].mean())], width = 0.2)\n",
    "plt.xlabel(\"Countries\")\n",
    "plt.ylabel(\"Number of Deaths in last 7 days per 100k\")\n",
    "plt.title('Deaths in last 7 days per 100k Visualisation')\n",
    "plt.show()"
   ]
  },
  {
   "cell_type": "code",
   "execution_count": 186,
   "id": "5922e783",
   "metadata": {},
   "outputs": [
    {
     "data": {
      "image/png": "[encoded data removed]",
      "text/plain": [
       "<Figure size 432x288 with 1 Axes>"
      ]
     },
     "metadata": {
      "needs_background": "light"
     },
     "output_type": "display_data"
    }
   ],
   "source": [
    "#deaths24h visualisation\n",
    "plt.bar(['Europe', 'Americas'], [(df3[df3['region']=='Europe']['deaths24h'].mean()), (df3[df3['region']=='Americas']['deaths24h'].mean())], width = 0.2)\n",
    "plt.xlabel(\"Countries\")\n",
    "plt.ylabel(\"Number of Deaths in last 24 hours\")\n",
    "plt.title('Deaths in last 24 hours Visualisation')\n",
    "plt.show()"
   ]
  },
  {
   "cell_type": "code",
   "execution_count": 187,
   "id": "02fc3131",
   "metadata": {},
   "outputs": [
    {
     "data": {
      "image/png": "[encoded data removed]",
      "text/plain": [
       "<Figure size 432x288 with 1 Axes>"
      ]
     },
     "metadata": {
      "needs_background": "light"
     },
     "output_type": "display_data"
    }
   ],
   "source": [
    "#fatality rate visualisation\n",
    "plt.bar(['Europe', 'Americas'], [(df3[df3['region']=='Europe']['fatality rate'].mean()), (df3[df3['region']=='Americas']['fatality rate'].mean())], width = 0.2)\n",
    "plt.xlabel(\"Countries\")\n",
    "plt.ylabel(\"Fatality rate (%)\")\n",
    "plt.title('Fatality Rate (%) Visualisation')\n",
    "plt.show()"
   ]
  },
  {
   "cell_type": "markdown",
   "id": "638612dd",
   "metadata": {},
   "source": [
    "Based on the previous plots and the plot beside, we can conclude that the spread of Covid-19 in Europe was massive than America.\n"
   ]
  },
  {
   "cell_type": "markdown",
   "id": "737101fb",
   "metadata": {},
   "source": [
    "Hence, it is true that THAT EUROPE HAS BEEN AFFECTED WORSE THAN AMERICA BY COVID"
   ]
  },
  {
   "cell_type": "markdown",
   "id": "9a591745",
   "metadata": {},
   "source": [
    "# Extra Insight"
   ]
  },
  {
   "cell_type": "markdown",
   "id": "a15da689",
   "metadata": {},
   "source": [
    "Further on the brighter side, we see America having a lower cumulative deaths and cases. Economy is recovering and they have better healthcare facilities. "
   ]
  },
  {
   "cell_type": "markdown",
   "id": "179a082c",
   "metadata": {},
   "source": [
    "Extra attention is needed towards the lifestyle and healthcare facilities of Europe where cases and deaths are high. There is a possibility of poor immunity of people due to their fast food trends. These concerns need to be addressed."
   ]
  }
 ],
 "metadata": {
  "kernelspec": {
   "display_name": "Python 3",
   "language": "python",
   "name": "python3"
  },
  "language_info": {
   "codemirror_mode": {
    "name": "ipython",
    "version": 3
   },
   "file_extension": ".py",
   "mimetype": "text/x-python",
   "name": "python",
   "nbconvert_exporter": "python",
   "pygments_lexer": "ipython3",
   "version": "3.8.8"
  }
 },
 "nbformat": 4,
 "nbformat_minor": 5
}
